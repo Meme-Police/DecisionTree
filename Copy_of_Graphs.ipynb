{
  "nbformat": 4,
  "nbformat_minor": 0,
  "metadata": {
    "colab": {
      "name": "Copy of Untitled0.ipynb",
      "provenance": []
    },
    "kernelspec": {
      "name": "python3",
      "display_name": "Python 3"
    }
  },
  "cells": [
    {
      "cell_type": "code",
      "metadata": {
        "id": "ISfLNvitQ1K4",
        "colab": {
          "base_uri": "https://localhost:8080/",
          "height": 296
        },
        "outputId": "627b6894-55ec-4561-c839-f7b85b8d3dad"
      },
      "source": [
        "import pandas as pd\r\n",
        "camp = pd.read_csv(\"https://raw.githubusercontent.com/byui-cse/cse450-course/master/data/bank.csv\")\r\n",
        "from sklearn import tree\r\n",
        "from sklearn.tree import DecisionTreeClassifier\r\n",
        "from sklearn.preprocessing import OneHotEncoder\r\n",
        "from sklearn.model_selection import train_test_split\r\n",
        "from sklearn.metrics import plot_confusion_matrix\r\n",
        "from sklearn.model_selection import LeaveOneOut\r\n",
        "campOld = camp[camp[\"age\"] > 60]\r\n",
        "\r\n",
        "camp.dropna()\r\n",
        "features = [\"age\", \"education\", \"job\", \"euribor3m\", \"marital\", \"campaign\", \"day_of_week\", \"loan\", \"month\"]\r\n",
        "X = pd.get_dummies(camp[features], drop_first = True)\r\n",
        "y = camp['y']\r\n",
        "X_train, X_test, y_train, y_test = train_test_split(X, y, test_size=0.30, shuffle = True)\r\n",
        "clf = DecisionTreeClassifier()\r\n",
        "\r\n",
        "\r\n",
        "clf.fit(X_train, y_train)\r\n",
        "clf.score(X_test, y_test)\r\n",
        "plot_confusion_matrix(clf, X_test, y_test)\r\n",
        "                                                    "
      ],
      "execution_count": 1,
      "outputs": [
        {
          "output_type": "execute_result",
          "data": {
            "text/plain": [
              "<sklearn.metrics._plot.confusion_matrix.ConfusionMatrixDisplay at 0x7f6312572940>"
            ]
          },
          "metadata": {
            "tags": []
          },
          "execution_count": 1
        },
        {
          "output_type": "display_data",
          "data": {
            "image/png": "[encoded data removed]",
            "text/plain": [
              "<Figure size 432x288 with 2 Axes>"
            ]
          },
          "metadata": {
            "tags": [],
            "needs_background": "light"
          }
        }
      ]
    },
    {
      "cell_type": "code",
      "metadata": {
        "id": "gvy9De1mRgMZ"
      },
      "source": [
        ""
      ],
      "execution_count": null,
      "outputs": []
    }
  ]
}